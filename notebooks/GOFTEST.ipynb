{
 "cells": [
  {
   "cell_type": "markdown",
   "id": "06d3a8e6",
   "metadata": {},
   "source": [
    "## Main Statistical Test: X^2GOF for Forest Fires"
   ]
  },
  {
   "cell_type": "markdown",
   "id": "aadd5c16",
   "metadata": {},
   "source": [
    "Hello! This is a data analysis project to analyze what factors contribute to forest fires. We will be using a **chi squared test for goodness of fit** since we are checking if the distribution of fires matches our expectations for them. We set our null hypothesis that there would be no major difference and our alternative hypothesis that they will differ by month. Specifically, we are looking for a greater area in summer and lower area in colder months.\n",
    "\n",
    "Our parameter of interest is the **average log affected fire area in Portugal per month** and specifically we are interested in the distribution of this variable by month.\n",
    "\n",
    "**Ho : the distribution of forest fires in Portugal will be nearly evenly distributed by month.**\n",
    "**Ha : the distribution of forest fires in Portugal will NOT match an even distribution by month.**\n",
    "\n",
    "We will have our p value cutoff be significance level **alpha = 0.05**\n",
    "\n",
    "\n",
    "### Conclusions\n",
    "* Chi-squared Statistic: 17.5399528101865\n",
    "* P-value: 0.02495275260798357\n",
    "\n",
    "Given that the null hypothesis is true and that the distribution of fire area across months is equal, there would be a p = 0.02495 probability of our observed distribution occuring by chance. Because p < a, we have convincing evidence to reject the null hypothesis and suggest that the observed data does not fit the expected distribution."
   ]
  },
  {
   "cell_type": "code",
   "execution_count": 2,
   "id": "cb0d734c",
   "metadata": {},
   "outputs": [],
   "source": [
    "import pandas as pd\n",
    "import math\n",
    "import random\n",
    "from scipy.stats import chisquare"
   ]
  },
  {
   "cell_type": "markdown",
   "id": "0aedccdc",
   "metadata": {},
   "source": [
    "Here we will import the fire dataset of forest fires from Portugal in Kaggle.\n",
    "- Here is the link: https://www.kaggle.com/datasets/ishandutta/forest-fires-data-set-portugal\n",
    "LETS CHECK CONDITIONS FOR OUR DATA:\n",
    "- Random sample? It seems that this dataset was collected by convenience but this is because forest fires are not a very rare occurance. There is nothing to suggest a bias in sample that doesn't match population. We will also be sampling our dataset into a smaller subset of data. PROCEED WITH CAUTION.\n",
    "- Normal? Should be. The time period is unspecified but given portugal gets thousands of fires a year, 517 of all fires should not be an issue.\n",
    "- Large counts? Yes. Although we are targetting area rather than frequency, the number of data values per row exceeds 5 if we ignore nov, jan, and may which we remove later."
   ]
  },
  {
   "cell_type": "code",
   "execution_count": 17,
   "id": "465b656c",
   "metadata": {},
   "outputs": [
    {
     "data": {
      "text/html": [
       "<div>\n",
       "<style scoped>\n",
       "    .dataframe tbody tr th:only-of-type {\n",
       "        vertical-align: middle;\n",
       "    }\n",
       "\n",
       "    .dataframe tbody tr th {\n",
       "        vertical-align: top;\n",
       "    }\n",
       "\n",
       "    .dataframe thead th {\n",
       "        text-align: right;\n",
       "    }\n",
       "</style>\n",
       "<table border=\"1\" class=\"dataframe\">\n",
       "  <thead>\n",
       "    <tr style=\"text-align: right;\">\n",
       "      <th></th>\n",
       "      <th>X</th>\n",
       "      <th>Y</th>\n",
       "      <th>month</th>\n",
       "      <th>day</th>\n",
       "      <th>FFMC</th>\n",
       "      <th>DMC</th>\n",
       "      <th>DC</th>\n",
       "      <th>ISI</th>\n",
       "      <th>temp</th>\n",
       "      <th>RH</th>\n",
       "      <th>wind</th>\n",
       "      <th>rain</th>\n",
       "      <th>area</th>\n",
       "    </tr>\n",
       "  </thead>\n",
       "  <tbody>\n",
       "    <tr>\n",
       "      <th>0</th>\n",
       "      <td>7</td>\n",
       "      <td>5</td>\n",
       "      <td>mar</td>\n",
       "      <td>fri</td>\n",
       "      <td>86.2</td>\n",
       "      <td>26.2</td>\n",
       "      <td>94.3</td>\n",
       "      <td>5.1</td>\n",
       "      <td>8.2</td>\n",
       "      <td>51</td>\n",
       "      <td>6.7</td>\n",
       "      <td>0.0</td>\n",
       "      <td>0.00</td>\n",
       "    </tr>\n",
       "    <tr>\n",
       "      <th>1</th>\n",
       "      <td>7</td>\n",
       "      <td>4</td>\n",
       "      <td>oct</td>\n",
       "      <td>tue</td>\n",
       "      <td>90.6</td>\n",
       "      <td>35.4</td>\n",
       "      <td>669.1</td>\n",
       "      <td>6.7</td>\n",
       "      <td>18.0</td>\n",
       "      <td>33</td>\n",
       "      <td>0.9</td>\n",
       "      <td>0.0</td>\n",
       "      <td>0.00</td>\n",
       "    </tr>\n",
       "    <tr>\n",
       "      <th>2</th>\n",
       "      <td>7</td>\n",
       "      <td>4</td>\n",
       "      <td>oct</td>\n",
       "      <td>sat</td>\n",
       "      <td>90.6</td>\n",
       "      <td>43.7</td>\n",
       "      <td>686.9</td>\n",
       "      <td>6.7</td>\n",
       "      <td>14.6</td>\n",
       "      <td>33</td>\n",
       "      <td>1.3</td>\n",
       "      <td>0.0</td>\n",
       "      <td>0.00</td>\n",
       "    </tr>\n",
       "    <tr>\n",
       "      <th>3</th>\n",
       "      <td>8</td>\n",
       "      <td>6</td>\n",
       "      <td>mar</td>\n",
       "      <td>fri</td>\n",
       "      <td>91.7</td>\n",
       "      <td>33.3</td>\n",
       "      <td>77.5</td>\n",
       "      <td>9.0</td>\n",
       "      <td>8.3</td>\n",
       "      <td>97</td>\n",
       "      <td>4.0</td>\n",
       "      <td>0.2</td>\n",
       "      <td>0.00</td>\n",
       "    </tr>\n",
       "    <tr>\n",
       "      <th>4</th>\n",
       "      <td>8</td>\n",
       "      <td>6</td>\n",
       "      <td>mar</td>\n",
       "      <td>sun</td>\n",
       "      <td>89.3</td>\n",
       "      <td>51.3</td>\n",
       "      <td>102.2</td>\n",
       "      <td>9.6</td>\n",
       "      <td>11.4</td>\n",
       "      <td>99</td>\n",
       "      <td>1.8</td>\n",
       "      <td>0.0</td>\n",
       "      <td>0.00</td>\n",
       "    </tr>\n",
       "    <tr>\n",
       "      <th>...</th>\n",
       "      <td>...</td>\n",
       "      <td>...</td>\n",
       "      <td>...</td>\n",
       "      <td>...</td>\n",
       "      <td>...</td>\n",
       "      <td>...</td>\n",
       "      <td>...</td>\n",
       "      <td>...</td>\n",
       "      <td>...</td>\n",
       "      <td>...</td>\n",
       "      <td>...</td>\n",
       "      <td>...</td>\n",
       "      <td>...</td>\n",
       "    </tr>\n",
       "    <tr>\n",
       "      <th>512</th>\n",
       "      <td>4</td>\n",
       "      <td>3</td>\n",
       "      <td>aug</td>\n",
       "      <td>sun</td>\n",
       "      <td>81.6</td>\n",
       "      <td>56.7</td>\n",
       "      <td>665.6</td>\n",
       "      <td>1.9</td>\n",
       "      <td>27.8</td>\n",
       "      <td>32</td>\n",
       "      <td>2.7</td>\n",
       "      <td>0.0</td>\n",
       "      <td>6.44</td>\n",
       "    </tr>\n",
       "    <tr>\n",
       "      <th>513</th>\n",
       "      <td>2</td>\n",
       "      <td>4</td>\n",
       "      <td>aug</td>\n",
       "      <td>sun</td>\n",
       "      <td>81.6</td>\n",
       "      <td>56.7</td>\n",
       "      <td>665.6</td>\n",
       "      <td>1.9</td>\n",
       "      <td>21.9</td>\n",
       "      <td>71</td>\n",
       "      <td>5.8</td>\n",
       "      <td>0.0</td>\n",
       "      <td>54.29</td>\n",
       "    </tr>\n",
       "    <tr>\n",
       "      <th>514</th>\n",
       "      <td>7</td>\n",
       "      <td>4</td>\n",
       "      <td>aug</td>\n",
       "      <td>sun</td>\n",
       "      <td>81.6</td>\n",
       "      <td>56.7</td>\n",
       "      <td>665.6</td>\n",
       "      <td>1.9</td>\n",
       "      <td>21.2</td>\n",
       "      <td>70</td>\n",
       "      <td>6.7</td>\n",
       "      <td>0.0</td>\n",
       "      <td>11.16</td>\n",
       "    </tr>\n",
       "    <tr>\n",
       "      <th>515</th>\n",
       "      <td>1</td>\n",
       "      <td>4</td>\n",
       "      <td>aug</td>\n",
       "      <td>sat</td>\n",
       "      <td>94.4</td>\n",
       "      <td>146.0</td>\n",
       "      <td>614.7</td>\n",
       "      <td>11.3</td>\n",
       "      <td>25.6</td>\n",
       "      <td>42</td>\n",
       "      <td>4.0</td>\n",
       "      <td>0.0</td>\n",
       "      <td>0.00</td>\n",
       "    </tr>\n",
       "    <tr>\n",
       "      <th>516</th>\n",
       "      <td>6</td>\n",
       "      <td>3</td>\n",
       "      <td>nov</td>\n",
       "      <td>tue</td>\n",
       "      <td>79.5</td>\n",
       "      <td>3.0</td>\n",
       "      <td>106.7</td>\n",
       "      <td>1.1</td>\n",
       "      <td>11.8</td>\n",
       "      <td>31</td>\n",
       "      <td>4.5</td>\n",
       "      <td>0.0</td>\n",
       "      <td>0.00</td>\n",
       "    </tr>\n",
       "  </tbody>\n",
       "</table>\n",
       "<p>517 rows × 13 columns</p>\n",
       "</div>"
      ],
      "text/plain": [
       "     X  Y month  day  FFMC    DMC     DC   ISI  temp  RH  wind  rain   area\n",
       "0    7  5   mar  fri  86.2   26.2   94.3   5.1   8.2  51   6.7   0.0   0.00\n",
       "1    7  4   oct  tue  90.6   35.4  669.1   6.7  18.0  33   0.9   0.0   0.00\n",
       "2    7  4   oct  sat  90.6   43.7  686.9   6.7  14.6  33   1.3   0.0   0.00\n",
       "3    8  6   mar  fri  91.7   33.3   77.5   9.0   8.3  97   4.0   0.2   0.00\n",
       "4    8  6   mar  sun  89.3   51.3  102.2   9.6  11.4  99   1.8   0.0   0.00\n",
       "..  .. ..   ...  ...   ...    ...    ...   ...   ...  ..   ...   ...    ...\n",
       "512  4  3   aug  sun  81.6   56.7  665.6   1.9  27.8  32   2.7   0.0   6.44\n",
       "513  2  4   aug  sun  81.6   56.7  665.6   1.9  21.9  71   5.8   0.0  54.29\n",
       "514  7  4   aug  sun  81.6   56.7  665.6   1.9  21.2  70   6.7   0.0  11.16\n",
       "515  1  4   aug  sat  94.4  146.0  614.7  11.3  25.6  42   4.0   0.0   0.00\n",
       "516  6  3   nov  tue  79.5    3.0  106.7   1.1  11.8  31   4.5   0.0   0.00\n",
       "\n",
       "[517 rows x 13 columns]"
      ]
     },
     "execution_count": 17,
     "metadata": {},
     "output_type": "execute_result"
    }
   ],
   "source": [
    "fire_data = pd.read_csv(\"../DATASETS/forestfires.csv\")\n",
    "fire_data"
   ]
  },
  {
   "cell_type": "markdown",
   "id": "6b4f5cc3",
   "metadata": {},
   "source": [
    "Then we will group it by month to see what proportion of data is necessary from each month (stratified)."
   ]
  },
  {
   "cell_type": "code",
   "execution_count": 5,
   "id": "d5e2314d",
   "metadata": {},
   "outputs": [
    {
     "name": "stdout",
     "output_type": "stream",
     "text": [
      "month\n",
      "aug    184\n",
      "sep    172\n",
      "mar     54\n",
      "jul     32\n",
      "feb     20\n",
      "jun     17\n",
      "oct     15\n",
      "apr      9\n",
      "dec      9\n",
      "jan      2\n",
      "may      2\n",
      "nov      1\n",
      "Name: count, dtype: int64\n",
      "Number of values in dataset: 517\n"
     ]
    },
    {
     "data": {
      "image/png": "[encoded data removed]",
      "text/plain": [
       "<Figure size 640x480 with 1 Axes>"
      ]
     },
     "metadata": {},
     "output_type": "display_data"
    }
   ],
   "source": [
    "grouped = fire_data.groupby(\"month\").size().plot(kind=\"bar\", title=\"Number of Fires by Month\")\n",
    "counts = fire_data.value_counts(\"month\")\n",
    "num_data = sum(counts)\n",
    "print(counts)\n",
    "print(\"Number of values in dataset:\", num_data)"
   ]
  },
  {
   "cell_type": "markdown",
   "id": "0900babe",
   "metadata": {},
   "source": [
    "We will conduct a stratified simple random sample by grabbing 60% of each strata."
   ]
  },
  {
   "cell_type": "code",
   "execution_count": 14,
   "id": "2f97979b",
   "metadata": {},
   "outputs": [
    {
     "name": "stdout",
     "output_type": "stream",
     "text": [
      "mar 33\n",
      "oct 9\n",
      "aug 111\n",
      "sep 104\n",
      "apr 6\n",
      "jun 11\n",
      "jul 20\n",
      "feb 12\n",
      "dec 6\n",
      "New number of values in dataset: 312\n",
      "OBSERVED VALUES: [('mar', 3.43030303030303), ('oct', 8.936666666666666), ('aug', 15.46009009009009), ('sep', 11.154711538461537), ('apr', 12.778333333333334), ('jun', 8.203636363636363), ('jul', 19.395999999999997), ('feb', 6.1575), ('dec', 13.603333333333333)]\n"
     ]
    }
   ],
   "source": [
    "proportions = {}\n",
    "for mon in fire_data[\"month\"].unique():\n",
    "    if mon not in excluded_months:\n",
    "        proportions[mon] = math.ceil(0.6 * float(counts[mon]))\n",
    "\n",
    "observed = []\n",
    "new_df = pd.DataFrame()\n",
    "\n",
    "for mon, prop in proportions.items():\n",
    "    print(mon, prop)\n",
    "    month_data = fire_data[fire_data[\"month\"] == mon]\n",
    "    sampled_data = month_data.sample(n=prop, random_state=42)\n",
    "    observed.append((mon,sum(sampled_data[\"area\"])/len(sampled_data)))\n",
    "    new_df = pd.concat([new_df, sampled_data], ignore_index=True)\n",
    "\n",
    "print(\"New number of values in dataset:\", len(new_df))\n",
    "print(\"OBSERVED VALUES:\", observed)"
   ]
  },
  {
   "cell_type": "markdown",
   "id": "140421d3",
   "metadata": {},
   "source": [
    "Conduct X^2 Goodness of Fit Test ->\n",
    "Remove jan may and nov due to undercoverage (and it is given that fires will subside in the winter)"
   ]
  },
  {
   "cell_type": "code",
   "execution_count": 13,
   "id": "00610594",
   "metadata": {},
   "outputs": [
    {
     "name": "stdout",
     "output_type": "stream",
     "text": [
      "Excluding jan from observed data.\n",
      "Excluding may from observed data.\n",
      "Excluding nov from observed data.\n",
      "[3.43030303030303, 8.936666666666666, 15.46009009009009, 11.154711538461537, 12.778333333333334, 8.203636363636363, 19.395999999999997, 6.1575, 13.603333333333333]\n",
      "99.12057435582435 99.12057435582435\n",
      "Chi-squared Statistic: 17.5399528101865\n",
      "P-value: 0.02495275260798357\n",
      "The observed data does not fit the expected distribution (reject null hypothesis).\n"
     ]
    }
   ],
   "source": [
    "excluded_months = [\"jan\", \"may\", \"nov\"]\n",
    "included = []\n",
    "for mon, val in observed:\n",
    "    if mon in excluded_months:\n",
    "        print(f\"Excluding {mon} from observed data.\")\n",
    "        continue\n",
    "    included.append((mon, val))\n",
    "observed = [x[1] for x in included]\n",
    "print(observed)\n",
    "\n",
    "exp = sum(observed)/9\n",
    "\n",
    "expected = [exp]*9\n",
    "print(sum(expected), sum(observed))\n",
    "chi2_stat, p_value = chisquare(f_obs=observed, f_exp=expected)\n",
    "print(f\"Chi-squared Statistic: {chi2_stat}\")\n",
    "print(f\"P-value: {p_value}\")\n",
    "\n",
    "if p_value < 0.05:\n",
    "    print(\"The observed data does not fit the expected distribution (reject null hypothesis).\")\n",
    "else:\n",
    "    print(\"The observed data fits the expected distribution (fail to reject null hypothesis).\")"
   ]
  },
  {
   "cell_type": "markdown",
   "id": "df36c03c",
   "metadata": {},
   "source": [
    "This shows us which months were farthest from our expected values."
   ]
  },
  {
   "cell_type": "code",
   "execution_count": 16,
   "id": "d5caa62b",
   "metadata": {},
   "outputs": [
    {
     "name": "stdout",
     "output_type": "stream",
     "text": [
      "mar -7.58309412034412\n",
      "oct -2.0767304839804837\n",
      "aug 4.44669293944294\n",
      "sep 0.1413143878143881\n",
      "apr 1.764936182686185\n",
      "jun -2.809760787010786\n",
      "jul 8.382602849352848\n",
      "feb -4.8558971506471496\n",
      "dec 2.589936182686184\n",
      "[('jul', 2.5259121412555388), ('mar', 2.2849978522290892), ('feb', 1.4632173073134123), ('aug', 1.3399126603070943), ('jun', 0.8466593268798581), ('dec', 0.7804200397528205), ('oct', 0.6257768425718472), ('apr', 0.5318245194847099), ('sep', 0.04258196819404532)]\n"
     ]
    },
    {
     "data": {
      "image/png": "[encoded data removed]",
      "text/plain": [
       "<Figure size 640x480 with 1 Axes>"
      ]
     },
     "metadata": {},
     "output_type": "display_data"
    }
   ],
   "source": [
    "x_vals = []\n",
    "for mon, val in included:\n",
    "    resid = val - exp\n",
    "    print(mon, resid)\n",
    "    x = math.sqrt(resid**2/exp)\n",
    "    x_vals.append((mon, x))\n",
    "ordered = sorted(x_vals, key=lambda x: x[1], reverse=True)\n",
    "print(ordered)\n",
    "\n",
    "points = pd.DataFrame(x_vals, columns=[\"month\", \"value\"])\n",
    "points.plot(x=\"month\", y=\"value\", kind=\"bar\", title=\"Chi-squared Residuals by Month\", legend=False)\n",
    "import matplotlib.pyplot as plt\n",
    "plt.xlabel(\"Month\")\n",
    "plt.ylabel(\"Value\")\n",
    "plt.show()"
   ]
  }
 ],
 "metadata": {
  "kernelspec": {
   "display_name": "base",
   "language": "python",
   "name": "python3"
  },
  "language_info": {
   "codemirror_mode": {
    "name": "ipython",
    "version": 3
   },
   "file_extension": ".py",
   "mimetype": "text/x-python",
   "name": "python",
   "nbconvert_exporter": "python",
   "pygments_lexer": "ipython3",
   "version": "3.12.2"
  }
 },
 "nbformat": 4,
 "nbformat_minor": 5
}
